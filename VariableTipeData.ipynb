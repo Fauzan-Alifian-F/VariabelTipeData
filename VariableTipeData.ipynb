{
 "cells": [
  {
   "cell_type": "markdown",
   "id": "a8b61d9c",
   "metadata": {},
   "source": [
    "<h1>Variable dan Tipe Data Python</h1><hr>\n",
    "<font color=\"blue\">Beberapa</font> aturan pembuatan variable di <b>python</b>:\n",
    "\n"
   ]
  },
  {
   "cell_type": "markdown",
   "id": "dda47715",
   "metadata": {},
   "source": [
    "<ol>\n",
    "    <li>Bersifat case sensitif => A != a</li>\n",
    "    <li>harus di awali dengan huruf atau karakter _(underscore)</li>\n",
    "    <li>Tidak boleh menggunakan spasi</li>\n",
    "    <li>Boleh menggunakan angka</li>\n",
    "</ol>   "
   ]
  },
  {
   "cell_type": "code",
   "execution_count": 4,
   "id": "7e31f0e3",
   "metadata": {},
   "outputs": [
    {
     "name": "stdout",
     "output_type": "stream",
     "text": [
      "10\n",
      "100.9\n",
      "1\n",
      "True\n"
     ]
    }
   ],
   "source": [
    "data_int = 10\n",
    "data_float = 100.9\n",
    "data_string = '1'\n",
    "data_bool = True\n",
    "data_double\n",
    "\n",
    "print(data_int)\n",
    "print(data_float)\n",
    "print(data_string)\n",
    "print(data_bool)"
   ]
  },
  {
   "cell_type": "markdown",
   "id": "10a4ed4c",
   "metadata": {},
   "source": [
    "untuk mengetahui tipe data dari sebuah variabel gunakan command <b>type<b/> "
   ]
  },
  {
   "cell_type": "code",
   "execution_count": 6,
   "id": "9822923e",
   "metadata": {},
   "outputs": [
    {
     "name": "stdout",
     "output_type": "stream",
     "text": [
      "<class 'int'>\n",
      "<class 'float'>\n",
      "<class 'str'>\n",
      "<class 'bool'>\n"
     ]
    }
   ],
   "source": [
    "print(type(data_int))\n",
    "print(type(data_float))\n",
    "print(type(data_string))\n",
    "print(type(data_bool))\n"
   ]
  },
  {
   "cell_type": "markdown",
   "id": "eb9038f2",
   "metadata": {},
   "source": [
    "pada python terdapat proses <b>CASTING</b> yaitu konversi dari sebuah tipe data ke tipe data yang lain yaitu dengan sintaks <b>tipe_data(nama_variable)</b>"
   ]
  },
  {
   "cell_type": "code",
   "execution_count": 9,
   "id": "c2ce7052",
   "metadata": {},
   "outputs": [
    {
     "name": "stdout",
     "output_type": "stream",
     "text": [
      "Nilai Variabel data_int= 10\n",
      "10.0\n",
      "10\n",
      "True\n"
     ]
    }
   ],
   "source": [
    "int_to_float = float(data_int)\n",
    "int_to_string = str(data_int)\n",
    "int_to_bool = bool(data_int)\n",
    "\n",
    "print(\"Nilai Variabel data_int=\",data_int)\n",
    "print(int_to_float)\n",
    "print(int_to_string)\n",
    "print(int_to_bool)"
   ]
  },
  {
   "cell_type": "code",
   "execution_count": 14,
   "id": "6b213204",
   "metadata": {},
   "outputs": [
    {
     "name": "stdout",
     "output_type": "stream",
     "text": [
      "Nilai Variabel data_string= 1\n",
      "1\n",
      "1.0\n",
      "True\n"
     ]
    }
   ],
   "source": [
    "str_to_int = int(data_string)\n",
    "str_to_float = float(data_string)\n",
    "str_to_bool = bool(data_string)\n",
    "\n",
    "print(\"Nilai Variabel data_string=\",data_string)\n",
    "print(str_to_int)\n",
    "print(str_to_float)\n",
    "print(str_to_bool)"
   ]
  },
  {
   "cell_type": "code",
   "execution_count": 15,
   "id": "7af9c31f",
   "metadata": {},
   "outputs": [
    {
     "name": "stdout",
     "output_type": "stream",
     "text": [
      "Nilai Variabel data_float= 100.9\n",
      "100\n",
      "100.9\n",
      "True\n"
     ]
    }
   ],
   "source": [
    "float_to_int = int(data_float)\n",
    "float_to_string = str(data_float)\n",
    "float_to_bool = bool(data_float)\n",
    "\n",
    "print(\"Nilai Variabel data_float=\",data_float)\n",
    "print(float_to_int)\n",
    "print(float_to_string)\n",
    "print(float_to_bool)"
   ]
  },
  {
   "cell_type": "code",
   "execution_count": 22,
   "id": "61ac19bb",
   "metadata": {},
   "outputs": [
    {
     "name": "stdout",
     "output_type": "stream",
     "text": [
      "Nilai Variabel data_bool= True\n",
      "1\n",
      "True\n",
      "1.0\n"
     ]
    }
   ],
   "source": [
    "bool_to_int = int(data_bool)\n",
    "bool_to_string = str(data_bool)\n",
    "bool_to_float = float(data_bool)\n",
    "\n",
    "print(\"Nilai Variabel data_bool=\",data_bool)\n",
    "print(bool_to_int)\n",
    "print(bool_to_string)\n",
    "print(bool_to_float)"
   ]
  },
  {
   "cell_type": "code",
   "execution_count": 33,
   "id": "8d29e0af",
   "metadata": {},
   "outputs": [
    {
     "name": "stdout",
     "output_type": "stream",
     "text": [
      "isikan bilangan 1:67\n",
      "isikan bilangan 2:24\n",
      "hasil penjumlahan 91\n",
      "hasil pembagian 2.7916666666666665\n"
     ]
    }
   ],
   "source": [
    "bil1 = int(input(\"isikan bilangan 1:\"))\n",
    "bil2 = int(input(\"isikan bilangan 2:\"))\n",
    "hasil_tambah = bil1 + bil2\n",
    "hasil_bagi = bil1 / bil2\n",
    "print(\"hasil penjumlahan\",hasil_tambah)\n",
    "print(\"hasil pembagian\",hasil_bagi)"
   ]
  }
 ],
 "metadata": {
  "kernelspec": {
   "display_name": "Python 3 (ipykernel)",
   "language": "python",
   "name": "python3"
  },
  "language_info": {
   "codemirror_mode": {
    "name": "ipython",
    "version": 3
   },
   "file_extension": ".py",
   "mimetype": "text/x-python",
   "name": "python",
   "nbconvert_exporter": "python",
   "pygments_lexer": "ipython3",
   "version": "3.9.12"
  }
 },
 "nbformat": 4,
 "nbformat_minor": 5
}
